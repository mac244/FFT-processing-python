{
 "cells": [
  {
   "cell_type": "code",
   "execution_count": 1,
   "metadata": {},
   "outputs": [],
   "source": [
    "#1. GEOPHONE DATA POINTS REDUCTION"
   ]
  },
  {
   "cell_type": "code",
   "execution_count": 2,
   "metadata": {},
   "outputs": [],
   "source": [
    "import csv\n",
    "import codecs\n",
    "import numpy as np\n",
    "import pandas as pdi\n",
    "import pandas as pd\n",
    "import numpy as numpy\n",
    "import math\n",
    "import scipy\n",
    "from scipy.fft import rfft, rfftfreq\n",
    "from matplotlib import pyplot as plt\n",
    "from numpy import *\n",
    "from numpy.fft import fft, fftfreq, ifft\n",
    "import scipy.fftpack as sf\n",
    "import scipy.signal as sig\n",
    "from scipy.signal import filtfilt, butter\n",
    "from scipy import stats\n",
    "from scipy.signal import savgol_filter\n"
   ]
  },
  {
   "cell_type": "code",
   "execution_count": 3,
   "metadata": {},
   "outputs": [],
   "source": [
    "#Import Raw strings data into lists\n",
    "#Data string is written in scientific notation\n",
    "time_raw=[] #timeline\n",
    "ch1_raw=[] #non calibrated geophone.\n",
    "#ch3_raw=[] #golden geophone.\n",
    "with open('RigolDS14.csv', 'r') as force_data_points_csv:\n",
    "    d_reader = csv.DictReader(force_data_points_csv)  \n",
    "    for row in d_reader:\n",
    "        time_raw.append(row['Time(s)'])\n",
    "        ch1_raw.append(row['CH1(V)'])\n",
    "        #ch3_raw.append(row['CH3(V)'])"
   ]
  },
  {
   "cell_type": "code",
   "execution_count": 4,
   "metadata": {},
   "outputs": [],
   "source": [
    "#convert strings of scientific numbers to floats\n",
    "time=[] #timeline\n",
    "ch1=[] #non calibrated geophone.\n",
    "#ch3=[] #golden geophone.\n",
    "time = [float(i) for i in time_raw]\n",
    "ch1 = [float(i) for i in ch1_raw]\n",
    "#ch3 = [float(i) for i in ch3_str]\n",
    "time_ms = [float(i)*1000.0 for i in time] # conversion from s to ms"
   ]
  },
  {
   "cell_type": "code",
   "execution_count": 5,
   "metadata": {},
   "outputs": [
    {
     "name": "stdout",
     "output_type": "stream",
     "text": [
      "Using matplotlib backend: Qt5Agg\n"
     ]
    },
    {
     "name": "stderr",
     "output_type": "stream",
     "text": [
      "No handles with labels found to put in legend.\n"
     ]
    }
   ],
   "source": [
    "%matplotlib\n",
    "plt.figure(figsize=(6,3))\n",
    "plt.scatter(time_ms, ch1,s=1,alpha=0.1)\n",
    "plt.xlabel('Time(ms)')\n",
    "plt.ylabel('Volts(v)')\n",
    "plt.legend()\n",
    "plt.show()"
   ]
  },
  {
   "cell_type": "code",
   "execution_count": 6,
   "metadata": {},
   "outputs": [],
   "source": [
    "# FFT\n",
    "num_samples = len(time)\n",
    "duration = time[num_samples-1] - time[0]\n",
    "sample_rate = num_samples/duration\n",
    "yf = rfft(ch1)\n",
    "xf = rfftfreq(num_samples, 1 / sample_rate)\n",
    "plt.figure()\n",
    "plt.yscale(\"log\")\n",
    "plt.xscale(\"log\")\n",
    "plt.plot(xf, np.abs(yf))\n",
    "plt.grid(True)\n",
    "plt.show()"
   ]
  },
  {
   "cell_type": "code",
   "execution_count": 10,
   "metadata": {},
   "outputs": [],
   "source": [
    "# The maximum frequency is half the sample rate\n",
    "points_per_freq = len(xf) / (sample_rate / 2)\n",
    "# Our target frequency  to  decimate is 8 Hz\n",
    "target_idx = int(points_per_freq * 8)\n",
    "# further decimate 2 to 16 hz frequencies\n",
    "yf[target_idx - 6 : target_idx + 8] = 0\n",
    "target_idx2 = int(points_per_freq * 30)\n",
    "yf[target_idx2 : target_idx2 + 479000] = 0 #badly indexed\n",
    "\n",
    "plt.figure()\n",
    "plt.plot(xf, np.abs(yf))\n",
    "plt.yscale(\"log\")\n",
    "plt.xscale(\"log\")\n",
    "plt.show()"
   ]
  },
  {
   "cell_type": "code",
   "execution_count": 16,
   "metadata": {},
   "outputs": [],
   "source": [
    "from scipy.fft import irfft\n",
    "\n",
    "new_sig = irfft(yf)\n",
    "len(new_sig)\n",
    "plt.scatter(time_ms,new_sig,s=1,alpha=0.1)\n",
    "plt.show()"
   ]
  },
  {
   "cell_type": "code",
   "execution_count": null,
   "metadata": {},
   "outputs": [],
   "source": []
  }
 ],
 "metadata": {
  "kernelspec": {
   "display_name": "Python 3",
   "language": "python",
   "name": "python3"
  },
  "language_info": {
   "codemirror_mode": {
    "name": "ipython",
    "version": 3
   },
   "file_extension": ".py",
   "mimetype": "text/x-python",
   "name": "python",
   "nbconvert_exporter": "python",
   "pygments_lexer": "ipython3",
   "version": "3.8.5"
  }
 },
 "nbformat": 4,
 "nbformat_minor": 4
}
